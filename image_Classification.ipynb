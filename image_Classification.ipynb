{
 "cells": [
  {
   "metadata": {},
   "cell_type": "markdown",
   "source": [
    "# Endangered Animals Image Classification\n",
    "\n"
   ],
   "id": "8a77807f92f26ee"
  },
  {
   "metadata": {
    "ExecuteTime": {
     "end_time": "2024-11-21T18:42:23.251810Z",
     "start_time": "2024-11-21T18:42:18.464540Z"
    }
   },
   "cell_type": "code",
   "source": [
    "import matplotlib.pyplot as plt\n",
    "import torch\n",
    "import torch.nn as nn\n",
    "import torch.nn.functional as F\n",
    "import torch.optim as optim\n",
    "\n",
    "import torchvision.transforms as transforms\n",
    "import torchvision.models as models\n",
    "from torchvision import datasets,transforms\n",
    "from torch.utils.data import DataLoader\n",
    "\n",
    "from PIL import Image\n"
   ],
   "id": "fbc121e30a2defb3",
   "outputs": [],
   "execution_count": 2
  },
  {
   "metadata": {
    "ExecuteTime": {
     "end_time": "2024-11-21T18:42:29.430741Z",
     "start_time": "2024-11-21T18:42:29.423640Z"
    }
   },
   "cell_type": "code",
   "source": [
    "device = torch.device(\"mps\" if torch.backends.mps.is_available() else \"cpu\")\n",
    "if  torch.backends.mps.is_available():\n",
    "    print (\"Using Apple Metal Performance Shaders\")\n",
    "else:\n",
    "    print (\"Using CPU\")\n",
    "\n",
    "torch.set_default_device(device)"
   ],
   "id": "d0c983512403eb80",
   "outputs": [
    {
     "name": "stdout",
     "output_type": "stream",
     "text": [
      "Using CPU\n",
      "Using: cpu\n"
     ]
    }
   ],
   "execution_count": 3
  },
  {
   "metadata": {},
   "cell_type": "markdown",
   "source": "# Preparing Image  & Data\n",
   "id": "f5d13c8fa908b0be"
  },
  {
   "metadata": {},
   "cell_type": "code",
   "outputs": [],
   "execution_count": null,
   "source": [
    "\n",
    "transform = transforms.Compose([transforms.Resize((256,256)), transforms.ToTensor()])\n",
    "imageData = datasets.ImageFolder(root='../dataset/Danger Of Extinction', transform=transform)\n",
    "dataloader = DataLoader(imageData, batch_size=1)"
   ],
   "id": "1c16a8918b1ec667"
  },
  {
   "metadata": {},
   "cell_type": "markdown",
   "source": "<font size=5>Creating 2D array with image and label<font>",
   "id": "73f7dbe738056802"
  },
  {
   "metadata": {},
   "cell_type": "code",
   "outputs": [],
   "execution_count": null,
   "source": [
    "# 2D array created to pair images with their respective label\n",
    "pairArray = []\n",
    "for image, label in imageData:\n",
    "    pairArray.append((image, label))"
   ],
   "id": "5fcf375937e9f78a"
  },
  {
   "metadata": {},
   "cell_type": "markdown",
   "source": "<font size=5>Get size of array<font>",
   "id": "1f09ee1d667402dc"
  },
  {
   "metadata": {},
   "cell_type": "code",
   "outputs": [],
   "execution_count": null,
   "source": [
    "rows = len(pairArray)\n",
    "cols = len(pairArray[0])\n",
    "\n",
    "print(f\"Rows: {rows}\")\n",
    "print(f\"Cols: {cols}\")"
   ],
   "id": "9de2cc47d839daab"
  },
  {
   "metadata": {},
   "cell_type": "markdown",
   "source": "<font size=5>View image from 2D array<font>",
   "id": "20ad92df4287e20b"
  },
  {
   "metadata": {},
   "cell_type": "code",
   "outputs": [],
   "execution_count": null,
   "source": [
    "image_view, labels = pairArray[0]\n",
    "\n",
    "image = image_view.permute(1, 2, 0).numpy()\n",
    "\n",
    "plt.imshow(image)\n",
    "plt.title(f\"Label: {labels}\")\n",
    "plt.axis('off')\n",
    "plt.show()"
   ],
   "id": "9ea659c03c47f47a"
  },
  {
   "metadata": {},
   "cell_type": "markdown",
   "source": "<font size=5>Used to View the images from DataLoader</font>\n",
   "id": "2d0d972a6efc859c"
  },
  {
   "metadata": {},
   "cell_type": "code",
   "outputs": [],
   "execution_count": null,
   "source": [
    "# Used to view first image\n",
    "for images, label in dataloader:\n",
    "    print(f\"Image shape: {images.shape}\")\n",
    "    firstImage = images\n",
    "    print(f\"Label: {label}\")\n",
    "    firstLabel = label\n",
    "    break\n",
    "\n",
    "\n",
    "\n",
    "image_t = firstImage[0]\n",
    "image_array = image_t.permute(1, 2, 0).numpy()\n",
    "\n",
    "plt.imshow(image_array)\n",
    "plt.axis('off')\n",
    "plt.title(f'Label: {labels}')\n",
    "plt.show()"
   ],
   "id": "4b424a75a800b1ec"
  },
  {
   "metadata": {},
   "cell_type": "markdown",
   "source": "# Data Normalization",
   "id": "169f73527d616a65"
  },
  {
   "metadata": {},
   "cell_type": "code",
   "outputs": [],
   "execution_count": null,
   "source": "\n",
   "id": "b472c362c6a59a0b"
  },
  {
   "metadata": {},
   "cell_type": "markdown",
   "source": "# Model",
   "id": "837c043714a3168b"
  },
  {
   "metadata": {},
   "cell_type": "code",
   "outputs": [],
   "execution_count": null,
   "source": [
    "class ConvNet(nn.Module):\n",
    "    def __init__(self):\n",
    "        # First convolutional layer & maxpooling\n",
    "        self.conv1 = nn.Conv2d(3, 6, 4)\n",
    "        self.pool = nn.MaxPool2d(2, 2)\n",
    "        self.conv2 = nn.Conv2d(6, 16, 4)\n",
    "        self.fc1 = nn.Linear(16 * 4 * 4, 90)\n",
    "        self.fc2 = nn.Linear(90, 61)\n",
    "        self.fc3 = nn.Linear(61, 11)\n",
    "\n",
    "\n",
    "    def forward(self, x):\n",
    "        x = self.pool(F.relu(self.conv1(x)))\n",
    "        x = self.pool(F.relu(self.conv2(x)))\n",
    "        # flattened tensor\n",
    "        x = x.view(-1, 16 * 4 * 4)\n",
    "        # call the fully connected layers\n",
    "        x = F.relu(self.fc1(x))\n",
    "        x = F.relu(self.fc3(x))\n",
    "        x = self.fc2(x)\n",
    "        return x\n"
   ],
   "id": "c65346155876e87"
  },
  {
   "metadata": {},
   "cell_type": "markdown",
   "source": "# Training Function",
   "id": "f2e4871c2cd71596"
  },
  {
   "metadata": {},
   "cell_type": "code",
   "outputs": [],
   "execution_count": null,
   "source": [
    "def train_model(model, criterion, optimizer, scheduler, num_epochs=25):\n",
    "    sfsd"
   ],
   "id": "e40580ce908ba7b5"
  }
 ],
 "metadata": {
  "kernelspec": {
   "display_name": "Python 3",
   "language": "python",
   "name": "python3"
  },
  "language_info": {
   "codemirror_mode": {
    "name": "ipython",
    "version": 2
   },
   "file_extension": ".py",
   "mimetype": "text/x-python",
   "name": "python",
   "nbconvert_exporter": "python",
   "pygments_lexer": "ipython2",
   "version": "2.7.6"
  }
 },
 "nbformat": 4,
 "nbformat_minor": 5
}
